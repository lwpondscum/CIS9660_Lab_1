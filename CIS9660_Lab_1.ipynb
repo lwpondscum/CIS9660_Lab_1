{
 "cells": [
  {
   "cell_type": "code",
   "execution_count": 1,
   "id": "52153bac",
   "metadata": {},
   "outputs": [],
   "source": [
    "#import necessary packages: pandas, matplotlib, and seaborn\n",
    "import pandas as pd\n",
    "import matplotlib.pyplot as plt\n",
    "import seaborn as sns\n",
    "\n",
    "#change to seaborn's color style\n",
    "sns.set(color_codes = True)"
   ]
  },
  {
   "cell_type": "code",
   "execution_count": 4,
   "id": "9650d3f6",
   "metadata": {},
   "outputs": [],
   "source": [
    "#import data\n",
    "#source: https://archive.ics.uci.edu/ml/datasets/Amphibians\n",
    "amphibians = pd.read_csv('https://raw.githubusercontent.com/lwpondscum/CIS9660_Lab_1/main/amphibians.csv')"
   ]
  },
  {
   "cell_type": "code",
   "execution_count": null,
   "id": "13f64058",
   "metadata": {},
   "outputs": [],
   "source": [
    "#make a scatter plot of \n",
    "amphibians.plot(kind='scatter', x = 'sepal_length', y = 'sepal_width')\n",
    "plt.title('Width vs Height')"
   ]
  }
 ],
 "metadata": {
  "kernelspec": {
   "display_name": "Python 3 (ipykernel)",
   "language": "python",
   "name": "python3"
  },
  "language_info": {
   "codemirror_mode": {
    "name": "ipython",
    "version": 3
   },
   "file_extension": ".py",
   "mimetype": "text/x-python",
   "name": "python",
   "nbconvert_exporter": "python",
   "pygments_lexer": "ipython3",
   "version": "3.9.7"
  }
 },
 "nbformat": 4,
 "nbformat_minor": 5
}
